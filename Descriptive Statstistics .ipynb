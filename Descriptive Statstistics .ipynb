{
 "cells": [
  {
   "cell_type": "code",
   "execution_count": 18,
   "id": "eaac8b37",
   "metadata": {},
   "outputs": [],
   "source": [
    "import pandas as pd\n",
    "import matplotlib.pyplot as plt\n"
   ]
  },
  {
   "cell_type": "code",
   "execution_count": 39,
   "id": "a99b2f5f",
   "metadata": {},
   "outputs": [
    {
     "data": {
      "image/png": "[encoded data removed]",
      "text/plain": [
       "<Figure size 432x288 with 1 Axes>"
      ]
     },
     "metadata": {
      "needs_background": "light"
     },
     "output_type": "display_data"
    },
    {
     "name": "stdout",
     "output_type": "stream",
     "text": [
      "Tenure Count:\n",
      "   gender  tenured_prof  percentage\n",
      "0  female           145   40.166205\n",
      "1    male           216   59.833795\n",
      "\n",
      "Descriptive Stats by Gender:\n",
      "   gender    beauty                   \n",
      "               mean      std       var\n",
      "0  female  0.116109  0.81781  0.668813\n",
      "1    male -0.084482  0.75713  0.573246\n",
      "\n",
      "Question 1:\n",
      "Percentage of visible minorities among tenure professors: 14.96%\n",
      "Conclusion: Analyze if tenure status differs for teachers who are visible minorities.\n",
      "\n",
      "Question 2:\n",
      "  tenure        age           \n",
      "               mean        std\n",
      "0     no  50.186275   6.946372\n",
      "1    yes  47.850416  10.420056\n",
      "\n",
      "Question 3:\n"
     ]
    },
    {
     "data": {
      "image/png": "[encoded data removed]",
      "text/plain": [
       "<Figure size 432x288 with 1 Axes>"
      ]
     },
     "metadata": {
      "needs_background": "light"
     },
     "output_type": "display_data"
    },
    {
     "name": "stdout",
     "output_type": "stream",
     "text": [
      "\n",
      "Question 4:\n"
     ]
    },
    {
     "data": {
      "image/png": "[encoded data removed]",
      "text/plain": [
       "<Figure size 432x288 with 1 Axes>"
      ]
     },
     "metadata": {
      "needs_background": "light"
     },
     "output_type": "display_data"
    },
    {
     "name": "stdout",
     "output_type": "stream",
     "text": [
      "\n",
      "Question 5:\n",
      "Median evaluation score for tenured professors: 4.0\n"
     ]
    }
   ],
   "source": [
    "def stats(file_loc):\n",
    "    # Read Data\n",
    "    df = pd.read_csv(file_loc)\n",
    "\n",
    "    # Descriptive stats\n",
    "    student_mean = df['students'].mean()\n",
    "    student_median = df['students'].median()\n",
    "    student_mode = df['students'].mode()\n",
    "    student_min = df['students'].min()\n",
    "    student_max = df['students'].max()\n",
    "\n",
    "    # Plot histogram\n",
    "    plt.hist(df['beauty'])\n",
    "    plt.xlabel('Beauty Score')\n",
    "    plt.ylabel('Frequency')\n",
    "    plt.title('Distribution of Beauty Scores')\n",
    "    plt.show()\n",
    "\n",
    "    # Tenure\n",
    "    tenure_count = df[df.tenure == 'yes'].groupby('gender').agg({'tenured_prof': 'count'}).reset_index()\n",
    "    tenure_count['percentage'] = 100 * tenure_count.tenured_prof / tenure_count.tenured_prof.sum()\n",
    "\n",
    "    print(\"Tenure Count:\")\n",
    "    print(tenure_count)\n",
    "\n",
    "    # Descriptive stats by gender\n",
    "    gender_stats = df.groupby('gender').agg({'beauty': ['mean', 'std', 'var']}).reset_index()\n",
    "\n",
    "    print(\"\\nDescriptive Stats by Gender:\")\n",
    "    print(gender_stats)\n",
    "\n",
    "    # Practice Questions\n",
    "    # Question 1: Calculate the percentage of visible minorities who are tenure professors.\n",
    "    visible_minority_tenure_count = df[(df.tenure == 'yes') & (df.vismin == 1)].shape[0]\n",
    "    total_tenure_count = df[df.tenure == 'yes'].shape[0]\n",
    "    percentage_visible_minority_tenure = (visible_minority_tenure_count / total_tenure_count) * 100\n",
    "\n",
    "    print(\"\\nQuestion 1:\")\n",
    "    print(f\"Percentage of visible minorities among tenure professors: {percentage_visible_minority_tenure:.2f}%\")\n",
    "    print(\"Conclusion: Analyze if tenure status differs for teachers who are visible minorities.\")\n",
    "\n",
    "    # Question 2: Does average age differ by tenure? Produce the means and standard deviations for both tenured and untenured professors.\n",
    "    age_by_tenure = df.groupby('tenure').agg({'age': ['mean', 'std']}).reset_index()\n",
    "    print(\"\\nQuestion 2:\")\n",
    "    print(age_by_tenure)\n",
    "\n",
    "    # Question 3: Create a histogram for the age variable.\n",
    "    print(\"\\nQuestion 3:\")\n",
    "    plt.hist(df['age'])\n",
    "    plt.xlabel('Age')\n",
    "    plt.ylabel('Frequency')\n",
    "    plt.title('Distribution of Age')\n",
    "    plt.show()\n",
    "\n",
    "    # Question 4: Create a bar plot for the gender variable.\n",
    "    print(\"\\nQuestion 4:\")\n",
    "    plt.bar(df.gender.unique(), df.gender.value_counts(), color=['pink', 'blue'])\n",
    "    plt.xlabel('Gender')\n",
    "    plt.ylabel('Count')\n",
    "    plt.title('Gender Distribution Bar Plot')\n",
    "    plt.show()\n",
    "\n",
    "    # Question 5: What is the Median evaluation score for tenured Professors?\n",
    "    median_eval_tenured = df[df['tenure'] == 'yes']['eval'].median()\n",
    "    print(\"\\nQuestion 5:\")\n",
    "    print(f\"Median evaluation score for tenured professors: {median_eval_tenured}\")\n",
    "\n",
    "# Specify the correct file path\n",
    "file_loc = 'teachingratings.csv'\n",
    "# Call the stats function\n",
    "stats(file_loc)\n"
   ]
  }
 ],
 "metadata": {
  "kernelspec": {
   "display_name": "Python 3 (ipykernel)",
   "language": "python",
   "name": "python3"
  },
  "language_info": {
   "codemirror_mode": {
    "name": "ipython",
    "version": 3
   },
   "file_extension": ".py",
   "mimetype": "text/x-python",
   "name": "python",
   "nbconvert_exporter": "python",
   "pygments_lexer": "ipython3",
   "version": "3.9.7"
  }
 },
 "nbformat": 4,
 "nbformat_minor": 5
}
